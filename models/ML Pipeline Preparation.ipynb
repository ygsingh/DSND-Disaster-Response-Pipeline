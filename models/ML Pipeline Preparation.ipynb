{
 "cells": [
  {
   "cell_type": "markdown",
   "metadata": {},
   "source": [
    "# ML Pipeline Preparation\n",
    "Follow the instructions below to help you create your ML pipeline.\n",
    "### 1. Import libraries and load data from database.\n",
    "- Import Python libraries\n",
    "- Load dataset from database with [`read_sql_table`](https://pandas.pydata.org/pandas-docs/stable/generated/pandas.read_sql_table.html)\n",
    "- Define feature and target variables X and Y"
   ]
  },
  {
   "cell_type": "code",
   "execution_count": 1,
   "metadata": {},
   "outputs": [],
   "source": [
    "# import libraries\n",
    "from sqlalchemy import create_engine\n",
    "import pandas as pd\n",
    "import numpy as np"
   ]
  },
  {
   "cell_type": "code",
   "execution_count": 2,
   "metadata": {},
   "outputs": [
    {
     "name": "stdout",
     "output_type": "stream",
     "text": [
      "[nltk_data] Downloading package punkt to /root/nltk_data...\n",
      "[nltk_data]   Unzipping tokenizers/punkt.zip.\n",
      "[nltk_data] Downloading package stopwords to /root/nltk_data...\n",
      "[nltk_data]   Unzipping corpora/stopwords.zip.\n",
      "[nltk_data] Downloading package wordnet to /root/nltk_data...\n",
      "[nltk_data]   Unzipping corpora/wordnet.zip.\n"
     ]
    },
    {
     "data": {
      "text/plain": [
       "True"
      ]
     },
     "execution_count": 2,
     "metadata": {},
     "output_type": "execute_result"
    }
   ],
   "source": [
    "import re\n",
    "import nltk\n",
    "from nltk.corpus import stopwords\n",
    "from nltk.stem.wordnet import WordNetLemmatizer\n",
    "from nltk.tokenize import word_tokenize\n",
    "\n",
    "nltk.download('punkt')\n",
    "nltk.download('stopwords')\n",
    "nltk.download('wordnet')"
   ]
  },
  {
   "cell_type": "code",
   "execution_count": 3,
   "metadata": {},
   "outputs": [],
   "source": [
    "from sklearn.pipeline import Pipeline\n",
    "from sklearn.metrics import classification_report\n",
    "from sklearn.model_selection import train_test_split\n",
    "from sklearn.model_selection import GridSearchCV\n",
    "from sklearn.multioutput import MultiOutputClassifier\n",
    "from sklearn.ensemble import RandomForestClassifier\n",
    "from sklearn.feature_extraction.text import CountVectorizer, TfidfTransformer"
   ]
  },
  {
   "cell_type": "code",
   "execution_count": 4,
   "metadata": {},
   "outputs": [
    {
     "data": {
      "text/html": [
       "<div>\n",
       "<style scoped>\n",
       "    .dataframe tbody tr th:only-of-type {\n",
       "        vertical-align: middle;\n",
       "    }\n",
       "\n",
       "    .dataframe tbody tr th {\n",
       "        vertical-align: top;\n",
       "    }\n",
       "\n",
       "    .dataframe thead th {\n",
       "        text-align: right;\n",
       "    }\n",
       "</style>\n",
       "<table border=\"1\" class=\"dataframe\">\n",
       "  <thead>\n",
       "    <tr style=\"text-align: right;\">\n",
       "      <th></th>\n",
       "      <th>id</th>\n",
       "      <th>related</th>\n",
       "      <th>request</th>\n",
       "      <th>offer</th>\n",
       "      <th>aid_related</th>\n",
       "      <th>medical_help</th>\n",
       "      <th>medical_products</th>\n",
       "      <th>search_and_rescue</th>\n",
       "      <th>security</th>\n",
       "      <th>military</th>\n",
       "      <th>...</th>\n",
       "      <th>aid_centers</th>\n",
       "      <th>other_infrastructure</th>\n",
       "      <th>weather_related</th>\n",
       "      <th>floods</th>\n",
       "      <th>storm</th>\n",
       "      <th>fire</th>\n",
       "      <th>earthquake</th>\n",
       "      <th>cold</th>\n",
       "      <th>other_weather</th>\n",
       "      <th>direct_report</th>\n",
       "    </tr>\n",
       "  </thead>\n",
       "  <tbody>\n",
       "    <tr>\n",
       "      <th>count</th>\n",
       "      <td>26216.00000</td>\n",
       "      <td>26216.000000</td>\n",
       "      <td>26216.000000</td>\n",
       "      <td>26216.000000</td>\n",
       "      <td>26216.000000</td>\n",
       "      <td>26216.000000</td>\n",
       "      <td>26216.000000</td>\n",
       "      <td>26216.000000</td>\n",
       "      <td>26216.000000</td>\n",
       "      <td>26216.000000</td>\n",
       "      <td>...</td>\n",
       "      <td>26216.000000</td>\n",
       "      <td>26216.000000</td>\n",
       "      <td>26216.000000</td>\n",
       "      <td>26216.000000</td>\n",
       "      <td>26216.000000</td>\n",
       "      <td>26216.000000</td>\n",
       "      <td>26216.000000</td>\n",
       "      <td>26216.000000</td>\n",
       "      <td>26216.000000</td>\n",
       "      <td>26216.000000</td>\n",
       "    </tr>\n",
       "    <tr>\n",
       "      <th>mean</th>\n",
       "      <td>15224.82133</td>\n",
       "      <td>0.773650</td>\n",
       "      <td>0.170659</td>\n",
       "      <td>0.004501</td>\n",
       "      <td>0.414251</td>\n",
       "      <td>0.079493</td>\n",
       "      <td>0.050084</td>\n",
       "      <td>0.027617</td>\n",
       "      <td>0.017966</td>\n",
       "      <td>0.032804</td>\n",
       "      <td>...</td>\n",
       "      <td>0.011787</td>\n",
       "      <td>0.043904</td>\n",
       "      <td>0.278341</td>\n",
       "      <td>0.082202</td>\n",
       "      <td>0.093187</td>\n",
       "      <td>0.010757</td>\n",
       "      <td>0.093645</td>\n",
       "      <td>0.020217</td>\n",
       "      <td>0.052487</td>\n",
       "      <td>0.193584</td>\n",
       "    </tr>\n",
       "    <tr>\n",
       "      <th>std</th>\n",
       "      <td>8826.88914</td>\n",
       "      <td>0.435276</td>\n",
       "      <td>0.376218</td>\n",
       "      <td>0.066940</td>\n",
       "      <td>0.492602</td>\n",
       "      <td>0.270513</td>\n",
       "      <td>0.218122</td>\n",
       "      <td>0.163875</td>\n",
       "      <td>0.132831</td>\n",
       "      <td>0.178128</td>\n",
       "      <td>...</td>\n",
       "      <td>0.107927</td>\n",
       "      <td>0.204887</td>\n",
       "      <td>0.448191</td>\n",
       "      <td>0.274677</td>\n",
       "      <td>0.290700</td>\n",
       "      <td>0.103158</td>\n",
       "      <td>0.291340</td>\n",
       "      <td>0.140743</td>\n",
       "      <td>0.223011</td>\n",
       "      <td>0.395114</td>\n",
       "    </tr>\n",
       "    <tr>\n",
       "      <th>min</th>\n",
       "      <td>2.00000</td>\n",
       "      <td>0.000000</td>\n",
       "      <td>0.000000</td>\n",
       "      <td>0.000000</td>\n",
       "      <td>0.000000</td>\n",
       "      <td>0.000000</td>\n",
       "      <td>0.000000</td>\n",
       "      <td>0.000000</td>\n",
       "      <td>0.000000</td>\n",
       "      <td>0.000000</td>\n",
       "      <td>...</td>\n",
       "      <td>0.000000</td>\n",
       "      <td>0.000000</td>\n",
       "      <td>0.000000</td>\n",
       "      <td>0.000000</td>\n",
       "      <td>0.000000</td>\n",
       "      <td>0.000000</td>\n",
       "      <td>0.000000</td>\n",
       "      <td>0.000000</td>\n",
       "      <td>0.000000</td>\n",
       "      <td>0.000000</td>\n",
       "    </tr>\n",
       "    <tr>\n",
       "      <th>25%</th>\n",
       "      <td>7446.75000</td>\n",
       "      <td>1.000000</td>\n",
       "      <td>0.000000</td>\n",
       "      <td>0.000000</td>\n",
       "      <td>0.000000</td>\n",
       "      <td>0.000000</td>\n",
       "      <td>0.000000</td>\n",
       "      <td>0.000000</td>\n",
       "      <td>0.000000</td>\n",
       "      <td>0.000000</td>\n",
       "      <td>...</td>\n",
       "      <td>0.000000</td>\n",
       "      <td>0.000000</td>\n",
       "      <td>0.000000</td>\n",
       "      <td>0.000000</td>\n",
       "      <td>0.000000</td>\n",
       "      <td>0.000000</td>\n",
       "      <td>0.000000</td>\n",
       "      <td>0.000000</td>\n",
       "      <td>0.000000</td>\n",
       "      <td>0.000000</td>\n",
       "    </tr>\n",
       "    <tr>\n",
       "      <th>50%</th>\n",
       "      <td>15662.50000</td>\n",
       "      <td>1.000000</td>\n",
       "      <td>0.000000</td>\n",
       "      <td>0.000000</td>\n",
       "      <td>0.000000</td>\n",
       "      <td>0.000000</td>\n",
       "      <td>0.000000</td>\n",
       "      <td>0.000000</td>\n",
       "      <td>0.000000</td>\n",
       "      <td>0.000000</td>\n",
       "      <td>...</td>\n",
       "      <td>0.000000</td>\n",
       "      <td>0.000000</td>\n",
       "      <td>0.000000</td>\n",
       "      <td>0.000000</td>\n",
       "      <td>0.000000</td>\n",
       "      <td>0.000000</td>\n",
       "      <td>0.000000</td>\n",
       "      <td>0.000000</td>\n",
       "      <td>0.000000</td>\n",
       "      <td>0.000000</td>\n",
       "    </tr>\n",
       "    <tr>\n",
       "      <th>75%</th>\n",
       "      <td>22924.25000</td>\n",
       "      <td>1.000000</td>\n",
       "      <td>0.000000</td>\n",
       "      <td>0.000000</td>\n",
       "      <td>1.000000</td>\n",
       "      <td>0.000000</td>\n",
       "      <td>0.000000</td>\n",
       "      <td>0.000000</td>\n",
       "      <td>0.000000</td>\n",
       "      <td>0.000000</td>\n",
       "      <td>...</td>\n",
       "      <td>0.000000</td>\n",
       "      <td>0.000000</td>\n",
       "      <td>1.000000</td>\n",
       "      <td>0.000000</td>\n",
       "      <td>0.000000</td>\n",
       "      <td>0.000000</td>\n",
       "      <td>0.000000</td>\n",
       "      <td>0.000000</td>\n",
       "      <td>0.000000</td>\n",
       "      <td>0.000000</td>\n",
       "    </tr>\n",
       "    <tr>\n",
       "      <th>max</th>\n",
       "      <td>30265.00000</td>\n",
       "      <td>2.000000</td>\n",
       "      <td>1.000000</td>\n",
       "      <td>1.000000</td>\n",
       "      <td>1.000000</td>\n",
       "      <td>1.000000</td>\n",
       "      <td>1.000000</td>\n",
       "      <td>1.000000</td>\n",
       "      <td>1.000000</td>\n",
       "      <td>1.000000</td>\n",
       "      <td>...</td>\n",
       "      <td>1.000000</td>\n",
       "      <td>1.000000</td>\n",
       "      <td>1.000000</td>\n",
       "      <td>1.000000</td>\n",
       "      <td>1.000000</td>\n",
       "      <td>1.000000</td>\n",
       "      <td>1.000000</td>\n",
       "      <td>1.000000</td>\n",
       "      <td>1.000000</td>\n",
       "      <td>1.000000</td>\n",
       "    </tr>\n",
       "  </tbody>\n",
       "</table>\n",
       "<p>8 rows × 37 columns</p>\n",
       "</div>"
      ],
      "text/plain": [
       "                id       related       request         offer   aid_related  \\\n",
       "count  26216.00000  26216.000000  26216.000000  26216.000000  26216.000000   \n",
       "mean   15224.82133      0.773650      0.170659      0.004501      0.414251   \n",
       "std     8826.88914      0.435276      0.376218      0.066940      0.492602   \n",
       "min        2.00000      0.000000      0.000000      0.000000      0.000000   \n",
       "25%     7446.75000      1.000000      0.000000      0.000000      0.000000   \n",
       "50%    15662.50000      1.000000      0.000000      0.000000      0.000000   \n",
       "75%    22924.25000      1.000000      0.000000      0.000000      1.000000   \n",
       "max    30265.00000      2.000000      1.000000      1.000000      1.000000   \n",
       "\n",
       "       medical_help  medical_products  search_and_rescue      security  \\\n",
       "count  26216.000000      26216.000000       26216.000000  26216.000000   \n",
       "mean       0.079493          0.050084           0.027617      0.017966   \n",
       "std        0.270513          0.218122           0.163875      0.132831   \n",
       "min        0.000000          0.000000           0.000000      0.000000   \n",
       "25%        0.000000          0.000000           0.000000      0.000000   \n",
       "50%        0.000000          0.000000           0.000000      0.000000   \n",
       "75%        0.000000          0.000000           0.000000      0.000000   \n",
       "max        1.000000          1.000000           1.000000      1.000000   \n",
       "\n",
       "           military      ...         aid_centers  other_infrastructure  \\\n",
       "count  26216.000000      ...        26216.000000          26216.000000   \n",
       "mean       0.032804      ...            0.011787              0.043904   \n",
       "std        0.178128      ...            0.107927              0.204887   \n",
       "min        0.000000      ...            0.000000              0.000000   \n",
       "25%        0.000000      ...            0.000000              0.000000   \n",
       "50%        0.000000      ...            0.000000              0.000000   \n",
       "75%        0.000000      ...            0.000000              0.000000   \n",
       "max        1.000000      ...            1.000000              1.000000   \n",
       "\n",
       "       weather_related        floods         storm          fire  \\\n",
       "count     26216.000000  26216.000000  26216.000000  26216.000000   \n",
       "mean          0.278341      0.082202      0.093187      0.010757   \n",
       "std           0.448191      0.274677      0.290700      0.103158   \n",
       "min           0.000000      0.000000      0.000000      0.000000   \n",
       "25%           0.000000      0.000000      0.000000      0.000000   \n",
       "50%           0.000000      0.000000      0.000000      0.000000   \n",
       "75%           1.000000      0.000000      0.000000      0.000000   \n",
       "max           1.000000      1.000000      1.000000      1.000000   \n",
       "\n",
       "         earthquake          cold  other_weather  direct_report  \n",
       "count  26216.000000  26216.000000   26216.000000   26216.000000  \n",
       "mean       0.093645      0.020217       0.052487       0.193584  \n",
       "std        0.291340      0.140743       0.223011       0.395114  \n",
       "min        0.000000      0.000000       0.000000       0.000000  \n",
       "25%        0.000000      0.000000       0.000000       0.000000  \n",
       "50%        0.000000      0.000000       0.000000       0.000000  \n",
       "75%        0.000000      0.000000       0.000000       0.000000  \n",
       "max        1.000000      1.000000       1.000000       1.000000  \n",
       "\n",
       "[8 rows x 37 columns]"
      ]
     },
     "execution_count": 4,
     "metadata": {},
     "output_type": "execute_result"
    }
   ],
   "source": [
    "# load data from database\n",
    "engine = create_engine('sqlite:///disaster_response.db')\n",
    "df = pd.read_sql_table('message_categories', engine)\n",
    "df.describe()"
   ]
  },
  {
   "cell_type": "code",
   "execution_count": 5,
   "metadata": {},
   "outputs": [],
   "source": [
    "X = df.message\n",
    "Y = df.drop(columns=['id','message','original','genre'])\n"
   ]
  },
  {
   "cell_type": "markdown",
   "metadata": {},
   "source": [
    "### 2. Write a tokenization function to process your text data"
   ]
  },
  {
   "cell_type": "code",
   "execution_count": 6,
   "metadata": {},
   "outputs": [],
   "source": [
    "#1. Text Processing \n",
    "#Cleaning\n",
    "#Normalize\n",
    "#Tokenize\n",
    "#Stop-word removal\n",
    "#Part of speech tagging\n",
    "#Named entry recognition\n",
    "#Stemming and lemmatization \n",
    "\n",
    "#2. Feature Extraction \n",
    "#Bag of Words\n",
    "#TF-IDF\n",
    "#Word Embeddings\n",
    "\n",
    "def tokenize(text):\n",
    "    \n",
    "    # normalize case and remove punctuation\n",
    "    text = re.sub(r\"[^a-zA-Z0-9]\", \" \", text.lower())\n",
    "    \n",
    "    # tokenize text\n",
    "    tokens = word_tokenize(text)\n",
    "    lemmatizer = WordNetLemmatizer()\n",
    "    \n",
    "    # lemmatize and remove stop words\n",
    "    tokens = [lemmatizer.lemmatize(w) for w in tokens if w not in stopwords.words(\"english\")]\n",
    "    \n",
    "    return tokens"
   ]
  },
  {
   "cell_type": "markdown",
   "metadata": {},
   "source": [
    "### 3. Build a machine learning pipeline\n",
    "This machine pipeline should take in the `message` column as input and output classification results on the other 36 categories in the dataset. You may find the [MultiOutputClassifier](http://scikit-learn.org/stable/modules/generated/sklearn.multioutput.MultiOutputClassifier.html) helpful for predicting multiple target variables."
   ]
  },
  {
   "cell_type": "code",
   "execution_count": 7,
   "metadata": {},
   "outputs": [],
   "source": [
    "pipeline = Pipeline([\n",
    "    ('vect', CountVectorizer(tokenizer=tokenize)),\n",
    "    ('tfidf', TfidfTransformer()),\n",
    "    ('clf', MultiOutputClassifier(RandomForestClassifier()))\n",
    "])"
   ]
  },
  {
   "cell_type": "markdown",
   "metadata": {},
   "source": [
    "### 4. Train pipeline\n",
    "- Split data into train and test sets\n",
    "- Train pipeline"
   ]
  },
  {
   "cell_type": "code",
   "execution_count": 8,
   "metadata": {},
   "outputs": [],
   "source": [
    "X_train, X_test, y_train, y_test = train_test_split(X, Y)\n",
    "pipeline_fit1 = pipeline.fit(X_train, y_train)"
   ]
  },
  {
   "cell_type": "markdown",
   "metadata": {},
   "source": [
    "### 5. Test your model\n",
    "Report the f1 score, precision and recall for each output category of the dataset. You can do this by iterating through the columns and calling sklearn's `classification_report` on each."
   ]
  },
  {
   "cell_type": "code",
   "execution_count": 9,
   "metadata": {
    "scrolled": false
   },
   "outputs": [],
   "source": [
    "# predict on test data\n",
    "y_pred_test = pipeline.predict(X_test)\n",
    "y_pred_train = pipeline.predict(X_train)\n"
   ]
  },
  {
   "cell_type": "code",
   "execution_count": 10,
   "metadata": {
    "scrolled": true
   },
   "outputs": [
    {
     "ename": "ValueError",
     "evalue": "Unknown label type: (       related  request  offer  aid_related  medical_help  medical_products  \\\n14883        1        0      0            0             0                 0   \n21616        1        0      0            1             0                 0   \n17769        1        0      0            0             0                 0   \n2697         1        1      0            1             0                 0   \n18557        0        0      0            0             0                 0   \n1049         1        0      0            0             0                 0   \n805          1        0      0            0             0                 0   \n11817        1        0      0            0             0                 0   \n20484        1        1      0            1             0                 0   \n15160        1        0      0            1             0                 0   \n17999        1        0      0            1             0                 0   \n19903        1        0      0            0             0                 0   \n22579        1        0      0            0             0                 0   \n15388        1        0      0            0             0                 0   \n17932        1        1      0            1             1                 1   \n14303        1        0      0            1             1                 0   \n11465        1        0      0            0             0                 0   \n4655         1        1      0            1             0                 0   \n1718         0        0      0            0             0                 0   \n23341        1        0      0            1             1                 0   \n6039         1        1      0            1             0                 0   \n157          1        0      0            0             0                 0   \n15058        0        0      0            0             0                 0   \n5058         0        0      0            0             0                 0   \n21565        1        0      0            1             0                 0   \n24515        1        0      0            1             1                 1   \n3926         1        0      0            0             0                 0   \n10621        1        0      0            1             0                 0   \n7577         0        0      0            0             0                 0   \n20867        1        0      0            1             0                 0   \n...        ...      ...    ...          ...           ...               ...   \n1254         1        1      0            1             0                 0   \n15249        1        0      0            1             0                 0   \n6006         0        0      0            0             0                 0   \n15933        1        1      0            1             0                 0   \n19787        1        0      0            0             0                 0   \n22488        1        0      0            0             0                 0   \n21936        1        1      0            1             0                 0   \n16875        1        0      0            0             0                 0   \n5511         1        0      0            0             0                 0   \n2151         1        1      0            1             0                 0   \n184          1        1      0            1             0                 0   \n18869        1        0      0            1             1                 0   \n18435        1        0      0            0             0                 0   \n19459        1        0      0            1             1                 0   \n4809         0        0      0            0             0                 0   \n18402        1        0      0            0             0                 0   \n10064        1        0      0            0             0                 0   \n6606         0        0      0            0             0                 0   \n15992        1        0      0            1             0                 0   \n13902        1        0      0            0             0                 0   \n13335        1        0      0            0             0                 0   \n8393         1        0      0            0             0                 0   \n20900        0        0      0            0             0                 0   \n18296        1        0      0            0             0                 0   \n3867         1        1      0            0             0                 0   \n6017         1        0      0            0             0                 0   \n1354         1        1      0            1             0                 0   \n2201         1        0      0            1             0                 0   \n24787        1        0      0            1             0                 0   \n4367         1        1      0            1             0                 0   \n\n       search_and_rescue  security  military  child_alone      ...        \\\n14883                  0         0         0            0      ...         \n21616                  0         0         0            0      ...         \n17769                  0         0         0            0      ...         \n2697                   0         0         0            0      ...         \n18557                  0         0         0            0      ...         \n1049                   0         0         0            0      ...         \n805                    0         0         0            0      ...         \n11817                  0         0         0            0      ...         \n20484                  0         0         0            0      ...         \n15160                  0         0         0            0      ...         \n17999                  0         0         0            0      ...         \n19903                  0         0         0            0      ...         \n22579                  0         0         0            0      ...         \n15388                  0         0         0            0      ...         \n17932                  0         0         0            0      ...         \n14303                  0         0         0            0      ...         \n11465                  0         0         0            0      ...         \n4655                   0         0         0            0      ...         \n1718                   0         0         0            0      ...         \n23341                  0         0         1            0      ...         \n6039                   0         0         0            0      ...         \n157                    0         0         0            0      ...         \n15058                  0         0         0            0      ...         \n5058                   0         0         0            0      ...         \n21565                  0         0         0            0      ...         \n24515                  0         0         0            0      ...         \n3926                   0         0         0            0      ...         \n10621                  0         0         0            0      ...         \n7577                   0         0         0            0      ...         \n20867                  0         0         0            0      ...         \n...                  ...       ...       ...          ...      ...         \n1254                   0         0         0            0      ...         \n15249                  0         0         0            0      ...         \n6006                   0         0         0            0      ...         \n15933                  0         0         0            0      ...         \n19787                  0         0         0            0      ...         \n22488                  0         0         0            0      ...         \n21936                  0         1         0            0      ...         \n16875                  0         0         0            0      ...         \n5511                   0         0         0            0      ...         \n2151                   0         0         0            0      ...         \n184                    0         0         0            0      ...         \n18869                  0         0         0            0      ...         \n18435                  0         0         0            0      ...         \n19459                  0         0         0            0      ...         \n4809                   0         0         0            0      ...         \n18402                  0         0         0            0      ...         \n10064                  0         0         0            0      ...         \n6606                   0         0         0            0      ...         \n15992                  0         0         0            0      ...         \n13902                  0         0         0            0      ...         \n13335                  0         0         0            0      ...         \n8393                   0         0         0            0      ...         \n20900                  0         0         0            0      ...         \n18296                  0         0         0            0      ...         \n3867                   0         0         0            0      ...         \n6017                   0         0         0            0      ...         \n1354                   0         0         0            0      ...         \n2201                   0         0         0            0      ...         \n24787                  0         0         0            0      ...         \n4367                   0         0         0            0      ...         \n\n       aid_centers  other_infrastructure  weather_related  floods  storm  \\\n14883            0                     0                1       0      0   \n21616            0                     0                1       1      0   \n17769            0                     0                0       0      0   \n2697             0                     0                0       0      0   \n18557            0                     0                0       0      0   \n1049             0                     0                0       0      0   \n805              0                     0                0       0      0   \n11817            0                     0                0       0      0   \n20484            0                     0                0       0      0   \n15160            0                     0                0       0      0   \n17999            0                     0                0       0      0   \n19903            0                     0                0       0      0   \n22579            0                     0                0       0      0   \n15388            0                     0                1       1      0   \n17932            0                     0                0       0      0   \n14303            0                     0                1       0      0   \n11465            0                     0                0       0      0   \n4655             0                     0                0       0      0   \n1718             0                     0                0       0      0   \n23341            0                     0                0       0      0   \n6039             0                     0                0       0      0   \n157              0                     0                0       0      0   \n15058            0                     0                0       0      0   \n5058             0                     0                0       0      0   \n21565            0                     0                0       0      0   \n24515            0                     0                0       0      0   \n3926             0                     0                0       0      0   \n10621            0                     0                1       0      1   \n7577             0                     0                0       0      0   \n20867            0                     1                1       0      0   \n...            ...                   ...              ...     ...    ...   \n1254             0                     0                1       0      0   \n15249            0                     0                1       0      1   \n6006             0                     0                0       0      0   \n15933            0                     0                1       1      0   \n19787            0                     0                0       0      0   \n22488            0                     0                0       0      0   \n21936            0                     0                0       0      0   \n16875            0                     0                0       0      0   \n5511             0                     0                0       0      0   \n2151             0                     0                0       0      0   \n184              0                     0                0       0      0   \n18869            0                     0                0       0      0   \n18435            0                     0                0       0      0   \n19459            0                     0                0       0      0   \n4809             0                     0                0       0      0   \n18402            0                     0                0       0      0   \n10064            0                     0                1       0      0   \n6606             0                     0                0       0      0   \n15992            0                     0                0       0      0   \n13902            0                     0                1       0      1   \n13335            0                     0                0       0      0   \n8393             0                     0                0       0      0   \n20900            0                     0                0       0      0   \n18296            0                     0                0       0      0   \n3867             0                     0                0       0      0   \n6017             0                     0                0       0      0   \n1354             0                     0                0       0      0   \n2201             0                     0                0       0      0   \n24787            0                     0                0       0      0   \n4367             0                     0                0       0      0   \n\n       fire  earthquake  cold  other_weather  direct_report  \n14883     0           1     1              1              0  \n21616     0           0     0              0              0  \n17769     0           0     0              0              0  \n2697      0           0     0              0              1  \n18557     0           0     0              0              0  \n1049      0           0     0              0              0  \n805       0           0     0              0              0  \n11817     0           0     0              0              0  \n20484     0           0     0              0              0  \n15160     0           0     0              0              0  \n17999     0           0     0              0              0  \n19903     0           0     0              0              0  \n22579     0           0     0              0              0  \n15388     0           0     0              0              0  \n17932     0           0     0              0              0  \n14303     0           0     1              0              0  \n11465     0           0     0              0              0  \n4655      0           0     0              0              1  \n1718      0           0     0              0              0  \n23341     0           0     0              0              0  \n6039      0           0     0              0              1  \n157       0           0     0              0              0  \n15058     0           0     0              0              0  \n5058      0           0     0              0              0  \n21565     0           0     0              0              0  \n24515     0           0     0              0              0  \n3926      0           0     0              0              0  \n10621     0           0     0              0              0  \n7577      0           0     0              0              0  \n20867     0           1     0              0              0  \n...     ...         ...   ...            ...            ...  \n1254      0           1     0              0              1  \n15249     0           0     0              1              0  \n6006      0           0     0              0              0  \n15933     0           0     1              1              0  \n19787     0           0     0              0              0  \n22488     0           0     0              0              0  \n21936     0           0     0              0              1  \n16875     0           0     0              0              0  \n5511      0           0     0              0              0  \n2151      0           0     0              0              1  \n184       0           0     0              0              1  \n18869     0           0     0              0              0  \n18435     0           0     0              0              0  \n19459     0           0     0              0              0  \n4809      0           0     0              0              0  \n18402     0           0     0              0              0  \n10064     0           1     0              0              0  \n6606      0           0     0              0              0  \n15992     0           0     0              0              0  \n13902     0           0     0              0              0  \n13335     0           0     0              0              0  \n8393      0           0     0              0              0  \n20900     0           0     0              0              0  \n18296     0           0     0              0              0  \n3867      0           0     0              0              0  \n6017      0           0     0              0              0  \n1354      0           0     0              0              1  \n2201      0           0     0              0              0  \n24787     0           0     0              0              0  \n4367      0           0     0              0              1  \n\n[6554 rows x 36 columns], array([[1, 0, 0, ..., 0, 0, 0],\n       [1, 0, 0, ..., 0, 0, 0],\n       [1, 0, 0, ..., 0, 0, 0],\n       ..., \n       [1, 0, 0, ..., 0, 0, 0],\n       [1, 0, 0, ..., 0, 0, 0],\n       [1, 0, 0, ..., 0, 0, 0]]))",
     "output_type": "error",
     "traceback": [
      "\u001b[0;31m---------------------------------------------------------------------------\u001b[0m",
      "\u001b[0;31mValueError\u001b[0m                                Traceback (most recent call last)",
      "\u001b[0;32m<ipython-input-10-b3bd93623896>\u001b[0m in \u001b[0;36m<module>\u001b[0;34m()\u001b[0m\n\u001b[1;32m      1\u001b[0m \u001b[0;34m\u001b[0m\u001b[0m\n\u001b[0;32m----> 2\u001b[0;31m \u001b[0mprint\u001b[0m\u001b[0;34m(\u001b[0m\u001b[0mclassification_report\u001b[0m\u001b[0;34m(\u001b[0m\u001b[0my_test\u001b[0m\u001b[0;34m,\u001b[0m \u001b[0my_pred_test\u001b[0m\u001b[0;34m,\u001b[0m \u001b[0mtarget_names\u001b[0m\u001b[0;34m=\u001b[0m\u001b[0mY\u001b[0m\u001b[0;34m.\u001b[0m\u001b[0mcolumns\u001b[0m\u001b[0;34m)\u001b[0m\u001b[0;34m)\u001b[0m\u001b[0;34m\u001b[0m\u001b[0m\n\u001b[0m",
      "\u001b[0;32m/opt/conda/lib/python3.6/site-packages/sklearn/metrics/classification.py\u001b[0m in \u001b[0;36mclassification_report\u001b[0;34m(y_true, y_pred, labels, target_names, sample_weight, digits)\u001b[0m\n\u001b[1;32m   1419\u001b[0m \u001b[0;34m\u001b[0m\u001b[0m\n\u001b[1;32m   1420\u001b[0m     \u001b[0;32mif\u001b[0m \u001b[0mlabels\u001b[0m \u001b[0;32mis\u001b[0m \u001b[0;32mNone\u001b[0m\u001b[0;34m:\u001b[0m\u001b[0;34m\u001b[0m\u001b[0m\n\u001b[0;32m-> 1421\u001b[0;31m         \u001b[0mlabels\u001b[0m \u001b[0;34m=\u001b[0m \u001b[0munique_labels\u001b[0m\u001b[0;34m(\u001b[0m\u001b[0my_true\u001b[0m\u001b[0;34m,\u001b[0m \u001b[0my_pred\u001b[0m\u001b[0;34m)\u001b[0m\u001b[0;34m\u001b[0m\u001b[0m\n\u001b[0m\u001b[1;32m   1422\u001b[0m     \u001b[0;32melse\u001b[0m\u001b[0;34m:\u001b[0m\u001b[0;34m\u001b[0m\u001b[0m\n\u001b[1;32m   1423\u001b[0m         \u001b[0mlabels\u001b[0m \u001b[0;34m=\u001b[0m \u001b[0mnp\u001b[0m\u001b[0;34m.\u001b[0m\u001b[0masarray\u001b[0m\u001b[0;34m(\u001b[0m\u001b[0mlabels\u001b[0m\u001b[0;34m)\u001b[0m\u001b[0;34m\u001b[0m\u001b[0m\n",
      "\u001b[0;32m/opt/conda/lib/python3.6/site-packages/sklearn/utils/multiclass.py\u001b[0m in \u001b[0;36munique_labels\u001b[0;34m(*ys)\u001b[0m\n\u001b[1;32m     95\u001b[0m     \u001b[0m_unique_labels\u001b[0m \u001b[0;34m=\u001b[0m \u001b[0m_FN_UNIQUE_LABELS\u001b[0m\u001b[0;34m.\u001b[0m\u001b[0mget\u001b[0m\u001b[0;34m(\u001b[0m\u001b[0mlabel_type\u001b[0m\u001b[0;34m,\u001b[0m \u001b[0;32mNone\u001b[0m\u001b[0;34m)\u001b[0m\u001b[0;34m\u001b[0m\u001b[0m\n\u001b[1;32m     96\u001b[0m     \u001b[0;32mif\u001b[0m \u001b[0;32mnot\u001b[0m \u001b[0m_unique_labels\u001b[0m\u001b[0;34m:\u001b[0m\u001b[0;34m\u001b[0m\u001b[0m\n\u001b[0;32m---> 97\u001b[0;31m         \u001b[0;32mraise\u001b[0m \u001b[0mValueError\u001b[0m\u001b[0;34m(\u001b[0m\u001b[0;34m\"Unknown label type: %s\"\u001b[0m \u001b[0;34m%\u001b[0m \u001b[0mrepr\u001b[0m\u001b[0;34m(\u001b[0m\u001b[0mys\u001b[0m\u001b[0;34m)\u001b[0m\u001b[0;34m)\u001b[0m\u001b[0;34m\u001b[0m\u001b[0m\n\u001b[0m\u001b[1;32m     98\u001b[0m \u001b[0;34m\u001b[0m\u001b[0m\n\u001b[1;32m     99\u001b[0m     \u001b[0mys_labels\u001b[0m \u001b[0;34m=\u001b[0m \u001b[0mset\u001b[0m\u001b[0;34m(\u001b[0m\u001b[0mchain\u001b[0m\u001b[0;34m.\u001b[0m\u001b[0mfrom_iterable\u001b[0m\u001b[0;34m(\u001b[0m\u001b[0m_unique_labels\u001b[0m\u001b[0;34m(\u001b[0m\u001b[0my\u001b[0m\u001b[0;34m)\u001b[0m \u001b[0;32mfor\u001b[0m \u001b[0my\u001b[0m \u001b[0;32min\u001b[0m \u001b[0mys\u001b[0m\u001b[0;34m)\u001b[0m\u001b[0;34m)\u001b[0m\u001b[0;34m\u001b[0m\u001b[0m\n",
      "\u001b[0;31mValueError\u001b[0m: Unknown label type: (       related  request  offer  aid_related  medical_help  medical_products  \\\n14883        1        0      0            0             0                 0   \n21616        1        0      0            1             0                 0   \n17769        1        0      0            0             0                 0   \n2697         1        1      0            1             0                 0   \n18557        0        0      0            0             0                 0   \n1049         1        0      0            0             0                 0   \n805          1        0      0            0             0                 0   \n11817        1        0      0            0             0                 0   \n20484        1        1      0            1             0                 0   \n15160        1        0      0            1             0                 0   \n17999        1        0      0            1             0                 0   \n19903        1        0      0            0             0                 0   \n22579        1        0      0            0             0                 0   \n15388        1        0      0            0             0                 0   \n17932        1        1      0            1             1                 1   \n14303        1        0      0            1             1                 0   \n11465        1        0      0            0             0                 0   \n4655         1        1      0            1             0                 0   \n1718         0        0      0            0             0                 0   \n23341        1        0      0            1             1                 0   \n6039         1        1      0            1             0                 0   \n157          1        0      0            0             0                 0   \n15058        0        0      0            0             0                 0   \n5058         0        0      0            0             0                 0   \n21565        1        0      0            1             0                 0   \n24515        1        0      0            1             1                 1   \n3926         1        0      0            0             0                 0   \n10621        1        0      0            1             0                 0   \n7577         0        0      0            0             0                 0   \n20867        1        0      0            1             0                 0   \n...        ...      ...    ...          ...           ...               ...   \n1254         1        1      0            1             0                 0   \n15249        1        0      0            1             0                 0   \n6006         0        0      0            0             0                 0   \n15933        1        1      0            1             0                 0   \n19787        1        0      0            0             0                 0   \n22488        1        0      0            0             0                 0   \n21936        1        1      0            1             0                 0   \n16875        1        0      0            0             0                 0   \n5511         1        0      0            0             0                 0   \n2151         1        1      0            1             0                 0   \n184          1        1      0            1             0                 0   \n18869        1        0      0            1             1                 0   \n18435        1        0      0            0             0                 0   \n19459        1        0      0            1             1                 0   \n4809         0        0      0            0             0                 0   \n18402        1        0      0            0             0                 0   \n10064        1        0      0            0             0                 0   \n6606         0        0      0            0             0                 0   \n15992        1        0      0            1             0                 0   \n13902        1        0      0            0             0                 0   \n13335        1        0      0            0             0                 0   \n8393         1        0      0            0             0                 0   \n20900        0        0      0            0             0                 0   \n18296        1        0      0            0             0                 0   \n3867         1        1      0            0             0                 0   \n6017         1        0      0            0             0                 0   \n1354         1        1      0            1             0                 0   \n2201         1        0      0            1             0                 0   \n24787        1        0      0            1             0                 0   \n4367         1        1      0            1             0                 0   \n\n       search_and_rescue  security  military  child_alone      ...        \\\n14883                  0         0         0            0      ...         \n21616                  0         0         0            0      ...         \n17769                  0         0         0            0      ...         \n2697                   0         0         0            0      ...         \n18557                  0         0         0            0      ...         \n1049                   0         0         0            0      ...         \n805                    0         0         0            0      ...         \n11817                  0         0         0            0      ...         \n20484                  0         0         0            0      ...         \n15160                  0         0         0            0      ...         \n17999                  0         0         0            0      ...         \n19903                  0         0         0            0      ...         \n22579                  0         0         0            0      ...         \n15388                  0         0         0            0      ...         \n17932                  0         0         0            0      ...         \n14303                  0         0         0            0      ...         \n11465                  0         0         0            0      ...         \n4655                   0         0         0            0      ...         \n1718                   0         0         0            0      ...         \n23341                  0         0         1            0      ...         \n6039                   0         0         0            0      ...         \n157                    0         0         0            0      ...         \n15058                  0         0         0            0      ...         \n5058                   0         0         0            0      ...         \n21565                  0         0         0            0      ...         \n24515                  0         0         0            0      ...         \n3926                   0         0         0            0      ...         \n10621                  0         0         0            0      ...         \n7577                   0         0         0            0      ...         \n20867                  0         0         0            0      ...         \n...                  ...       ...       ...          ...      ...         \n1254                   0         0         0            0      ...         \n15249                  0         0         0            0      ...         \n6006                   0         0         0            0      ...         \n15933                  0         0         0            0      ...         \n19787                  0         0         0            0      ...         \n22488                  0         0         0            0      ...         \n21936                  0         1         0            0      ...         \n16875                  0         0         0            0      ...         \n5511                   0         0         0            0      ...         \n2151                   0         0         0            0      ...         \n184                    0         0         0            0      ...         \n18869                  0         0         0            0      ...         \n18435                  0         0         0            0      ...         \n19459                  0         0         0            0      ...         \n4809                   0         0         0            0      ...         \n18402                  0         0         0            0      ...         \n10064                  0         0         0            0      ...         \n6606                   0         0         0            0      ...         \n15992                  0         0         0            0      ...         \n13902                  0         0         0            0      ...         \n13335                  0         0         0            0      ...         \n8393                   0         0         0            0      ...         \n20900                  0         0         0            0      ...         \n18296                  0         0         0            0      ...         \n3867                   0         0         0            0      ...         \n6017                   0         0         0            0      ...         \n1354                   0         0         0            0      ...         \n2201                   0         0         0            0      ...         \n24787                  0         0         0            0      ...         \n4367                   0         0         0            0      ...         \n\n       aid_centers  other_infrastructure  weather_related  floods  storm  \\\n14883            0                     0                1       0      0   \n21616            0                     0                1       1      0   \n17769            0                     0                0       0      0   \n2697             0                     0                0       0      0   \n18557            0                     0                0       0      0   \n1049             0                     0                0       0      0   \n805              0                     0                0       0      0   \n11817            0                     0                0       0      0   \n20484            0                     0                0       0      0   \n15160            0                     0                0       0      0   \n17999            0                     0                0       0      0   \n19903            0                     0                0       0      0   \n22579            0                     0                0       0      0   \n15388            0                     0                1       1      0   \n17932            0                     0                0       0      0   \n14303            0                     0                1       0      0   \n11465            0                     0                0       0      0   \n4655             0                     0                0       0      0   \n1718             0                     0                0       0      0   \n23341            0                     0                0       0      0   \n6039             0                     0                0       0      0   \n157              0                     0                0       0      0   \n15058            0                     0                0       0      0   \n5058             0                     0                0       0      0   \n21565            0                     0                0       0      0   \n24515            0                     0                0       0      0   \n3926             0                     0                0       0      0   \n10621            0                     0                1       0      1   \n7577             0                     0                0       0      0   \n20867            0                     1                1       0      0   \n...            ...                   ...              ...     ...    ...   \n1254             0                     0                1       0      0   \n15249            0                     0                1       0      1   \n6006             0                     0                0       0      0   \n15933            0                     0                1       1      0   \n19787            0                     0                0       0      0   \n22488            0                     0                0       0      0   \n21936            0                     0                0       0      0   \n16875            0                     0                0       0      0   \n5511             0                     0                0       0      0   \n2151             0                     0                0       0      0   \n184              0                     0                0       0      0   \n18869            0                     0                0       0      0   \n18435            0                     0                0       0      0   \n19459            0                     0                0       0      0   \n4809             0                     0                0       0      0   \n18402            0                     0                0       0      0   \n10064            0                     0                1       0      0   \n6606             0                     0                0       0      0   \n15992            0                     0                0       0      0   \n13902            0                     0                1       0      1   \n13335            0                     0                0       0      0   \n8393             0                     0                0       0      0   \n20900            0                     0                0       0      0   \n18296            0                     0                0       0      0   \n3867             0                     0                0       0      0   \n6017             0                     0                0       0      0   \n1354             0                     0                0       0      0   \n2201             0                     0                0       0      0   \n24787            0                     0                0       0      0   \n4367             0                     0                0       0      0   \n\n       fire  earthquake  cold  other_weather  direct_report  \n14883     0           1     1              1              0  \n21616     0           0     0              0              0  \n17769     0           0     0              0              0  \n2697      0           0     0              0              1  \n18557     0           0     0              0              0  \n1049      0           0     0              0              0  \n805       0           0     0              0              0  \n11817     0           0     0              0              0  \n20484     0           0     0              0              0  \n15160     0           0     0              0              0  \n17999     0           0     0              0              0  \n19903     0           0     0              0              0  \n22579     0           0     0              0              0  \n15388     0           0     0              0              0  \n17932     0           0     0              0              0  \n14303     0           0     1              0              0  \n11465     0           0     0              0              0  \n4655      0           0     0              0              1  \n1718      0           0     0              0              0  \n23341     0           0     0              0              0  \n6039      0           0     0              0              1  \n157       0           0     0              0              0  \n15058     0           0     0              0              0  \n5058      0           0     0              0              0  \n21565     0           0     0              0              0  \n24515     0           0     0              0              0  \n3926      0           0     0              0              0  \n10621     0           0     0              0              0  \n7577      0           0     0              0              0  \n20867     0           1     0              0              0  \n...     ...         ...   ...            ...            ...  \n1254      0           1     0              0              1  \n15249     0           0     0              1              0  \n6006      0           0     0              0              0  \n15933     0           0     1              1              0  \n19787     0           0     0              0              0  \n22488     0           0     0              0              0  \n21936     0           0     0              0              1  \n16875     0           0     0              0              0  \n5511      0           0     0              0              0  \n2151      0           0     0              0              1  \n184       0           0     0              0              1  \n18869     0           0     0              0              0  \n18435     0           0     0              0              0  \n19459     0           0     0              0              0  \n4809      0           0     0              0              0  \n18402     0           0     0              0              0  \n10064     0           1     0              0              0  \n6606      0           0     0              0              0  \n15992     0           0     0              0              0  \n13902     0           0     0              0              0  \n13335     0           0     0              0              0  \n8393      0           0     0              0              0  \n20900     0           0     0              0              0  \n18296     0           0     0              0              0  \n3867      0           0     0              0              0  \n6017      0           0     0              0              0  \n1354      0           0     0              0              1  \n2201      0           0     0              0              0  \n24787     0           0     0              0              0  \n4367      0           0     0              0              1  \n\n[6554 rows x 36 columns], array([[1, 0, 0, ..., 0, 0, 0],\n       [1, 0, 0, ..., 0, 0, 0],\n       [1, 0, 0, ..., 0, 0, 0],\n       ..., \n       [1, 0, 0, ..., 0, 0, 0],\n       [1, 0, 0, ..., 0, 0, 0],\n       [1, 0, 0, ..., 0, 0, 0]]))"
     ]
    }
   ],
   "source": [
    "\n",
    "print(classification_report(y_test, y_pred_test, target_names=Y.columns))"
   ]
  },
  {
   "cell_type": "markdown",
   "metadata": {},
   "source": [
    "### 6. Improve your model\n",
    "Use grid search to find better parameters. "
   ]
  },
  {
   "cell_type": "code",
   "execution_count": 11,
   "metadata": {},
   "outputs": [
    {
     "data": {
      "text/plain": [
       "{'memory': None,\n",
       " 'steps': [('vect',\n",
       "   CountVectorizer(analyzer='word', binary=False, decode_error='strict',\n",
       "           dtype=<class 'numpy.int64'>, encoding='utf-8', input='content',\n",
       "           lowercase=True, max_df=1.0, max_features=None, min_df=1,\n",
       "           ngram_range=(1, 1), preprocessor=None, stop_words=None,\n",
       "           strip_accents=None, token_pattern='(?u)\\\\b\\\\w\\\\w+\\\\b',\n",
       "           tokenizer=<function tokenize at 0x7f52ef0b98c8>, vocabulary=None)),\n",
       "  ('tfidf',\n",
       "   TfidfTransformer(norm='l2', smooth_idf=True, sublinear_tf=False, use_idf=True)),\n",
       "  ('clf',\n",
       "   MultiOutputClassifier(estimator=RandomForestClassifier(bootstrap=True, class_weight=None, criterion='gini',\n",
       "               max_depth=None, max_features='auto', max_leaf_nodes=None,\n",
       "               min_impurity_decrease=0.0, min_impurity_split=None,\n",
       "               min_samples_leaf=1, min_samples_split=2,\n",
       "               min_weight_fraction_leaf=0.0, n_estimators=10, n_jobs=1,\n",
       "               oob_score=False, random_state=None, verbose=0,\n",
       "               warm_start=False),\n",
       "              n_jobs=1))],\n",
       " 'vect': CountVectorizer(analyzer='word', binary=False, decode_error='strict',\n",
       "         dtype=<class 'numpy.int64'>, encoding='utf-8', input='content',\n",
       "         lowercase=True, max_df=1.0, max_features=None, min_df=1,\n",
       "         ngram_range=(1, 1), preprocessor=None, stop_words=None,\n",
       "         strip_accents=None, token_pattern='(?u)\\\\b\\\\w\\\\w+\\\\b',\n",
       "         tokenizer=<function tokenize at 0x7f52ef0b98c8>, vocabulary=None),\n",
       " 'tfidf': TfidfTransformer(norm='l2', smooth_idf=True, sublinear_tf=False, use_idf=True),\n",
       " 'clf': MultiOutputClassifier(estimator=RandomForestClassifier(bootstrap=True, class_weight=None, criterion='gini',\n",
       "             max_depth=None, max_features='auto', max_leaf_nodes=None,\n",
       "             min_impurity_decrease=0.0, min_impurity_split=None,\n",
       "             min_samples_leaf=1, min_samples_split=2,\n",
       "             min_weight_fraction_leaf=0.0, n_estimators=10, n_jobs=1,\n",
       "             oob_score=False, random_state=None, verbose=0,\n",
       "             warm_start=False),\n",
       "            n_jobs=1),\n",
       " 'vect__analyzer': 'word',\n",
       " 'vect__binary': False,\n",
       " 'vect__decode_error': 'strict',\n",
       " 'vect__dtype': numpy.int64,\n",
       " 'vect__encoding': 'utf-8',\n",
       " 'vect__input': 'content',\n",
       " 'vect__lowercase': True,\n",
       " 'vect__max_df': 1.0,\n",
       " 'vect__max_features': None,\n",
       " 'vect__min_df': 1,\n",
       " 'vect__ngram_range': (1, 1),\n",
       " 'vect__preprocessor': None,\n",
       " 'vect__stop_words': None,\n",
       " 'vect__strip_accents': None,\n",
       " 'vect__token_pattern': '(?u)\\\\b\\\\w\\\\w+\\\\b',\n",
       " 'vect__tokenizer': <function __main__.tokenize(text)>,\n",
       " 'vect__vocabulary': None,\n",
       " 'tfidf__norm': 'l2',\n",
       " 'tfidf__smooth_idf': True,\n",
       " 'tfidf__sublinear_tf': False,\n",
       " 'tfidf__use_idf': True,\n",
       " 'clf__estimator__bootstrap': True,\n",
       " 'clf__estimator__class_weight': None,\n",
       " 'clf__estimator__criterion': 'gini',\n",
       " 'clf__estimator__max_depth': None,\n",
       " 'clf__estimator__max_features': 'auto',\n",
       " 'clf__estimator__max_leaf_nodes': None,\n",
       " 'clf__estimator__min_impurity_decrease': 0.0,\n",
       " 'clf__estimator__min_impurity_split': None,\n",
       " 'clf__estimator__min_samples_leaf': 1,\n",
       " 'clf__estimator__min_samples_split': 2,\n",
       " 'clf__estimator__min_weight_fraction_leaf': 0.0,\n",
       " 'clf__estimator__n_estimators': 10,\n",
       " 'clf__estimator__n_jobs': 1,\n",
       " 'clf__estimator__oob_score': False,\n",
       " 'clf__estimator__random_state': None,\n",
       " 'clf__estimator__verbose': 0,\n",
       " 'clf__estimator__warm_start': False,\n",
       " 'clf__estimator': RandomForestClassifier(bootstrap=True, class_weight=None, criterion='gini',\n",
       "             max_depth=None, max_features='auto', max_leaf_nodes=None,\n",
       "             min_impurity_decrease=0.0, min_impurity_split=None,\n",
       "             min_samples_leaf=1, min_samples_split=2,\n",
       "             min_weight_fraction_leaf=0.0, n_estimators=10, n_jobs=1,\n",
       "             oob_score=False, random_state=None, verbose=0,\n",
       "             warm_start=False),\n",
       " 'clf__n_jobs': 1}"
      ]
     },
     "execution_count": 11,
     "metadata": {},
     "output_type": "execute_result"
    }
   ],
   "source": [
    "pipeline.get_params()"
   ]
  },
  {
   "cell_type": "code",
   "execution_count": 12,
   "metadata": {},
   "outputs": [],
   "source": [
    "# specify parameters for grid search\n",
    "\n",
    "parameters = {'vect__max_df': (0.75, 1.0),\n",
    "              'clf__estimator__n_estimators': [10, 20],\n",
    "              'clf__estimator__min_samples_split': [2, 5]\n",
    "             }\n",
    "\n",
    "# create grid search object    \n",
    "cv = GridSearchCV(pipeline, param_grid=parameters)\n",
    " "
   ]
  },
  {
   "cell_type": "markdown",
   "metadata": {},
   "source": [
    "### 7. Test your model\n",
    "Show the accuracy, precision, and recall of the tuned model.  \n",
    "\n",
    "Since this project focuses on code quality, process, and  pipelines, there is no minimum performance metric needed to pass. However, make sure to fine tune your models for accuracy, precision and recall to make your project stand out - especially for your portfolio!"
   ]
  },
  {
   "cell_type": "code",
   "execution_count": null,
   "metadata": {},
   "outputs": [],
   "source": [
    "cv.fit(X_train, y_train)\n",
    "y_pred = cv.predict(X_test)\n",
    "    "
   ]
  },
  {
   "cell_type": "code",
   "execution_count": null,
   "metadata": {},
   "outputs": [],
   "source": [
    "for i in range(36):\n",
    "    print(y_test.columns[i], ':')\n",
    "    print(classification_report(y_test.iloc[:,i], y_pred[:,i], target_names=Y.columns), '______________________________________________________________')"
   ]
  },
  {
   "cell_type": "markdown",
   "metadata": {},
   "source": [
    "### 8. Try improving your model further. Here are a few ideas:\n",
    "* try other machine learning algorithms\n",
    "* add other features besides the TF-IDF"
   ]
  },
  {
   "cell_type": "code",
   "execution_count": null,
   "metadata": {},
   "outputs": [],
   "source": [
    "model = cv"
   ]
  },
  {
   "cell_type": "markdown",
   "metadata": {},
   "source": [
    "### 9. Export your model as a pickle file"
   ]
  },
  {
   "cell_type": "code",
   "execution_count": null,
   "metadata": {},
   "outputs": [],
   "source": [
    "pickle.dump(model, open('final_model.sav', 'wb'))"
   ]
  },
  {
   "cell_type": "markdown",
   "metadata": {},
   "source": [
    "### 10. Use this notebook to complete `train.py`\n",
    "Use the template file attached in the Resources folder to write a script that runs the steps above to create a database and export a model based on a new dataset specified by the user."
   ]
  },
  {
   "cell_type": "code",
   "execution_count": null,
   "metadata": {},
   "outputs": [],
   "source": []
  }
 ],
 "metadata": {
  "kernelspec": {
   "display_name": "Python 3",
   "language": "python",
   "name": "python3"
  },
  "language_info": {
   "codemirror_mode": {
    "name": "ipython",
    "version": 3
   },
   "file_extension": ".py",
   "mimetype": "text/x-python",
   "name": "python",
   "nbconvert_exporter": "python",
   "pygments_lexer": "ipython3",
   "version": "3.6.3"
  }
 },
 "nbformat": 4,
 "nbformat_minor": 2
}
